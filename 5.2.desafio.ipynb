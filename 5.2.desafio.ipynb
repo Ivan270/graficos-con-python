{
 "cells": [
  {
   "cell_type": "markdown",
   "id": "5f107571",
   "metadata": {},
   "source": [
    "# Desafío\n",
    "\n",
    "En la actividad anterior, fue posible comprender cómo crear una animación con la biblioteca Plotly. ¡Ahora viene otro desafío!\n",
    "\n",
    "¿Recuerdas que creamos una figura estática que contiene los datos de inmigración de Brasil y Argentina? Tu tarea es crear un gráfico animado con Plotly que muestre estos datos. El gráfico debe tener las siguientes características:\n",
    "\n",
    "- Dos líneas: una para Brasil y otra para Argentina.\n",
    "- Un botón \"Play\" para iniciar la animación, mostrando el aumento o disminución del número de inmigrantes a lo largo de los años.\n",
    "- Las configuraciones de animación deben hacer que las dos líneas se muestren y animen al mismo tiempo.\n",
    "\n",
    "**Consejos**:\n",
    "\n",
    "- Crea un DataFrame con los datos de Argentina y no olvides dejar la columna de años como tipo int (entero).\n",
    "- Utiliza el código proporcionado para Brasil como base y adáptalo para incluir los datos de Argentina.\n",
    "- Para configurar las animaciones, puedes hacer un bucle for para recorrer el DataFrame `datos_brasil` y, para cada iteración, crear una nueva lista que contenga dos objetos del tipo `go.Scatter`, uno para cada país. Luego, cada lista puede ser utilizada para crear un objeto `go.Frame`, que se agrega a la lista de frames. Finalmente, la lista de frames puede ser asignada al objeto `fig`, que es la figura del gráfico que se animará. Con esto, cuando se inicie la animación, el gráfico mostrará las dos líneas en movimiento, una para Brasil y otra para Argentina."
   ]
  },
  {
   "cell_type": "code",
   "execution_count": 17,
   "id": "dc4dae32",
   "metadata": {},
   "outputs": [],
   "source": [
    "import pandas as pd\n",
    "import matplotlib.pyplot as plt\n",
    "import plotly.express as px\n",
    "\n",
    "df = pd.read_csv\n",
    "df = pd.read_csv(\"data/Inmigrantes_Canadá.csv\")\n",
    "df.set_index(\"Pais\", inplace=True)\n",
    "\n",
    "anos = list(map(str, range(1980, 2014)))"
   ]
  },
  {
   "cell_type": "code",
   "execution_count": 30,
   "id": "2c781449",
   "metadata": {},
   "outputs": [
    {
     "data": {
      "application/vnd.plotly.v1+json": {
       "config": {
        "plotlyServerURL": "https://plot.ly"
       },
       "data": [
        {
         "line": {
          "width": 4
         },
         "mode": "lines",
         "name": "Inmigrantes Brasil",
         "type": "scatter",
         "x": [
          1980
         ],
         "y": [
          211
         ]
        },
        {
         "line": {
          "width": 4
         },
         "mode": "lines",
         "name": "Inmigrantes Argentina",
         "type": "scatter",
         "x": [
          1980
         ],
         "y": [
          368
         ]
        }
       ],
       "frames": [
        {
         "data": [
          {
           "type": "scatter",
           "x": {
            "bdata": "vAc=",
            "dtype": "i2"
           },
           "y": {
            "bdata": "0wA=",
            "dtype": "i2"
           }
          },
          {
           "type": "scatter",
           "x": {
            "bdata": "vAc=",
            "dtype": "i2"
           },
           "y": {
            "bdata": "cAE=",
            "dtype": "i2"
           }
          }
         ]
        },
        {
         "data": [
          {
           "type": "scatter",
           "x": {
            "bdata": "vAe9Bw==",
            "dtype": "i2"
           },
           "y": {
            "bdata": "0wDcAA==",
            "dtype": "i2"
           }
          },
          {
           "type": "scatter",
           "x": {
            "bdata": "vAe9Bw==",
            "dtype": "i2"
           },
           "y": {
            "bdata": "cAGqAQ==",
            "dtype": "i2"
           }
          }
         ]
        },
        {
         "data": [
          {
           "type": "scatter",
           "x": {
            "bdata": "vAe9B74H",
            "dtype": "i2"
           },
           "y": {
            "bdata": "0wDcAMAA",
            "dtype": "i2"
           }
          },
          {
           "type": "scatter",
           "x": {
            "bdata": "vAe9B74H",
            "dtype": "i2"
           },
           "y": {
            "bdata": "cAGqAXIC",
            "dtype": "i2"
           }
          }
         ]
        },
        {
         "data": [
          {
           "type": "scatter",
           "x": {
            "bdata": "vAe9B74Hvwc=",
            "dtype": "i2"
           },
           "y": {
            "bdata": "0wDcAMAAiwA=",
            "dtype": "i2"
           }
          },
          {
           "type": "scatter",
           "x": {
            "bdata": "vAe9B74Hvwc=",
            "dtype": "i2"
           },
           "y": {
            "bdata": "cAGqAXIC8QA=",
            "dtype": "i2"
           }
          }
         ]
        },
        {
         "data": [
          {
           "type": "scatter",
           "x": {
            "bdata": "vAe9B74HvwfABw==",
            "dtype": "i2"
           },
           "y": {
            "bdata": "0wDcAMAAiwCRAA==",
            "dtype": "i2"
           }
          },
          {
           "type": "scatter",
           "x": {
            "bdata": "vAe9B74HvwfABw==",
            "dtype": "i2"
           },
           "y": {
            "bdata": "cAGqAXIC8QDtAA==",
            "dtype": "i2"
           }
          }
         ]
        },
        {
         "data": [
          {
           "type": "scatter",
           "x": {
            "bdata": "vAe9B74HvwfAB8EH",
            "dtype": "i2"
           },
           "y": {
            "bdata": "0wDcAMAAiwCRAIIA",
            "dtype": "i2"
           }
          },
          {
           "type": "scatter",
           "x": {
            "bdata": "vAe9B74HvwfAB8EH",
            "dtype": "i2"
           },
           "y": {
            "bdata": "cAGqAXIC8QDtAMQA",
            "dtype": "i2"
           }
          }
         ]
        },
        {
         "data": [
          {
           "type": "scatter",
           "x": {
            "bdata": "vAe9B74HvwfAB8EHwgc=",
            "dtype": "i2"
           },
           "y": {
            "bdata": "0wDcAMAAiwCRAIIAzQA=",
            "dtype": "i2"
           }
          },
          {
           "type": "scatter",
           "x": {
            "bdata": "vAe9B74HvwfAB8EHwgc=",
            "dtype": "i2"
           },
           "y": {
            "bdata": "cAGqAXIC8QDtAMQA1QA=",
            "dtype": "i2"
           }
          }
         ]
        },
        {
         "data": [
          {
           "type": "scatter",
           "x": {
            "bdata": "vAe9B74HvwfAB8EHwgfDBw==",
            "dtype": "i2"
           },
           "y": {
            "bdata": "0wDcAMAAiwCRAIIAzQD0AA==",
            "dtype": "i2"
           }
          },
          {
           "type": "scatter",
           "x": {
            "bdata": "vAe9B74HvwfAB8EHwgfDBw==",
            "dtype": "i2"
           },
           "y": {
            "bdata": "cAGqAXIC8QDtAMQA1QAHAg==",
            "dtype": "i2"
           }
          }
         ]
        },
        {
         "data": [
          {
           "type": "scatter",
           "x": {
            "bdata": "vAe9B74HvwfAB8EHwgfDB8QH",
            "dtype": "i2"
           },
           "y": {
            "bdata": "0wDcAMAAiwCRAIIAzQD0AIoB",
            "dtype": "i2"
           }
          },
          {
           "type": "scatter",
           "x": {
            "bdata": "vAe9B74HvwfAB8EHwgfDB8QH",
            "dtype": "i2"
           },
           "y": {
            "bdata": "cAGqAXIC8QDtAMQA1QAHAnYB",
            "dtype": "i2"
           }
          }
         ]
        },
        {
         "data": [
          {
           "type": "scatter",
           "x": {
            "bdata": "vAe9B74HvwfAB8EHwgfDB8QHxQc=",
            "dtype": "i2"
           },
           "y": {
            "bdata": "0wDcAMAAiwCRAIIAzQD0AIoBigI=",
            "dtype": "i2"
           }
          },
          {
           "type": "scatter",
           "x": {
            "bdata": "vAe9B74HvwfAB8EHwgfDB8QHxQc=",
            "dtype": "i2"
           },
           "y": {
            "bdata": "cAGqAXIC8QDtAMQA1QAHAnYBGgI=",
            "dtype": "i2"
           }
          }
         ]
        },
        {
         "data": [
          {
           "type": "scatter",
           "x": {
            "bdata": "vAe9B74HvwfAB8EHwgfDB8QHxQfGBw==",
            "dtype": "i2"
           },
           "y": {
            "bdata": "0wDcAMAAiwCRAIIAzQD0AIoBigKKAg==",
            "dtype": "i2"
           }
          },
          {
           "type": "scatter",
           "x": {
            "bdata": "vAe9B74HvwfAB8EHwgfDB8QHxQfGBw==",
            "dtype": "i2"
           },
           "y": {
            "bdata": "cAGqAXIC8QDtAMQA1QAHAnYBGgKmAg==",
            "dtype": "i2"
           }
          }
         ]
        },
        {
         "data": [
          {
           "type": "scatter",
           "x": {
            "bdata": "vAe9B74HvwfAB8EHwgfDB8QHxQfGB8cH",
            "dtype": "i2"
           },
           "y": {
            "bdata": "0wDcAMAAiwCRAIIAzQD0AIoBigKKAm0D",
            "dtype": "i2"
           }
          },
          {
           "type": "scatter",
           "x": {
            "bdata": "vAe9B74HvwfAB8EHwgfDB8QHxQfGB8cH",
            "dtype": "i2"
           },
           "y": {
            "bdata": "cAGqAXIC8QDtAMQA1QAHAnYBGgKmAvsC",
            "dtype": "i2"
           }
          }
         ]
        },
        {
         "data": [
          {
           "type": "scatter",
           "x": {
            "bdata": "vAe9B74HvwfAB8EHwgfDB8QHxQfGB8cHyAc=",
            "dtype": "i2"
           },
           "y": {
            "bdata": "0wDcAMAAiwCRAIIAzQD0AIoBigKKAm0DKgQ=",
            "dtype": "i2"
           }
          },
          {
           "type": "scatter",
           "x": {
            "bdata": "vAe9B74HvwfAB8EHwgfDB8QHxQfGB8cHyAc=",
            "dtype": "i2"
           },
           "y": {
            "bdata": "cAGqAXIC8QDtAMQA1QAHAnYBGgKmAvsC/wM=",
            "dtype": "i2"
           }
          }
         ]
        },
        {
         "data": [
          {
           "type": "scatter",
           "x": {
            "bdata": "vAe9B74HvwfAB8EHwgfDB8QHxQfGB8cHyAfJBw==",
            "dtype": "i2"
           },
           "y": {
            "bdata": "0wDcAMAAiwCRAIIAzQD0AIoBigKKAm0DKgRiAw==",
            "dtype": "i2"
           }
          },
          {
           "type": "scatter",
           "x": {
            "bdata": "vAe9B74HvwfAB8EHwgfDB8QHxQfGB8cHyAfJBw==",
            "dtype": "i2"
           },
           "y": {
            "bdata": "cAGqAXIC8QDtAMQA1QAHAnYBGgKmAvsC/wP+Aw==",
            "dtype": "i2"
           }
          }
         ]
        },
        {
         "data": [
          {
           "type": "scatter",
           "x": {
            "bdata": "vAe9B74HvwfAB8EHwgfDB8QHxQfGB8cHyAfJB8oH",
            "dtype": "i2"
           },
           "y": {
            "bdata": "0wDcAMAAiwCRAIIAzQD0AIoBigKKAm0DKgRiAzYC",
            "dtype": "i2"
           }
          },
          {
           "type": "scatter",
           "x": {
            "bdata": "vAe9B74HvwfAB8EHwgfDB8QHxQfGB8cHyAfJB8oH",
            "dtype": "i2"
           },
           "y": {
            "bdata": "cAGqAXIC8QDtAMQA1QAHAnYBGgKmAvsC/wP+A24B",
            "dtype": "i2"
           }
          }
         ]
        },
        {
         "data": [
          {
           "type": "scatter",
           "x": {
            "bdata": "vAe9B74HvwfAB8EHwgfDB8QHxQfGB8cHyAfJB8oHywc=",
            "dtype": "i2"
           },
           "y": {
            "bdata": "0wDcAMAAiwCRAIIAzQD0AIoBigKKAm0DKgRiAzYCPAI=",
            "dtype": "i2"
           }
          },
          {
           "type": "scatter",
           "x": {
            "bdata": "vAe9B74HvwfAB8EHwgfDB8QHxQfGB8cHyAfJB8oHywc=",
            "dtype": "i2"
           },
           "y": {
            "bdata": "cAGqAXIC8QDtAMQA1QAHAnYBGgKmAvsC/wP+A24BfAE=",
            "dtype": "i2"
           }
          }
         ]
        },
        {
         "data": [
          {
           "type": "scatter",
           "x": {
            "bdata": "vAe9B74HvwfAB8EHwgfDB8QHxQfGB8cHyAfJB8oHywfMBw==",
            "dtype": "i2"
           },
           "y": {
            "bdata": "0wDcAMAAiwCRAIIAzQD0AIoBigKKAm0DKgRiAzYCPAJKAg==",
            "dtype": "i2"
           }
          },
          {
           "type": "scatter",
           "x": {
            "bdata": "vAe9B74HvwfAB8EHwgfDB8QHxQfGB8cHyAfJB8oHywfMBw==",
            "dtype": "i2"
           },
           "y": {
            "bdata": "cAGqAXIC8QDtAMQA1QAHAnYBGgKmAvsC/wP+A24BfAGMAQ==",
            "dtype": "i2"
           }
          }
         ]
        },
        {
         "data": [
          {
           "type": "scatter",
           "x": {
            "bdata": "vAe9B74HvwfAB8EHwgfDB8QHxQfGB8cHyAfJB8oHywfMB80H",
            "dtype": "i2"
           },
           "y": {
            "bdata": "0wDcAMAAiwCRAIIAzQD0AIoBigKKAm0DKgRiAzYCPAJKAk8C",
            "dtype": "i2"
           }
          },
          {
           "type": "scatter",
           "x": {
            "bdata": "vAe9B74HvwfAB8EHwgfDB8QHxQfGB8cHyAfJB8oHywfMB80H",
            "dtype": "i2"
           },
           "y": {
            "bdata": "cAGqAXIC8QDtAMQA1QAHAnYBGgKmAvsC/wP+A24BfAGMAYcB",
            "dtype": "i2"
           }
          }
         ]
        },
        {
         "data": [
          {
           "type": "scatter",
           "x": {
            "bdata": "vAe9B74HvwfAB8EHwgfDB8QHxQfGB8cHyAfJB8oHywfMB80Hzgc=",
            "dtype": "i2"
           },
           "y": {
            "bdata": "0wDcAMAAiwCRAIIAzQD0AIoBigKKAm0DKgRiAzYCPAJKAk8CEwI=",
            "dtype": "i2"
           }
          },
          {
           "type": "scatter",
           "x": {
            "bdata": "vAe9B74HvwfAB8EHwgfDB8QHxQfGB8cHyAfJB8oHywfMB80Hzgc=",
            "dtype": "i2"
           },
           "y": {
            "bdata": "cAGqAXIC8QDtAMQA1QAHAnYBGgKmAvsC/wP+A24BfAGMAYcBXQE=",
            "dtype": "i2"
           }
          }
         ]
        },
        {
         "data": [
          {
           "type": "scatter",
           "x": {
            "bdata": "vAe9B74HvwfAB8EHwgfDB8QHxQfGB8cHyAfJB8oHywfMB80HzgfPBw==",
            "dtype": "i2"
           },
           "y": {
            "bdata": "0wDcAMAAiwCRAIIAzQD0AIoBigKKAm0DKgRiAzYCPAJKAk8CEwJyAg==",
            "dtype": "i2"
           }
          },
          {
           "type": "scatter",
           "x": {
            "bdata": "vAe9B74HvwfAB8EHwgfDB8QHxQfGB8cHyAfJB8oHywfMB80HzgfPBw==",
            "dtype": "i2"
           },
           "y": {
            "bdata": "cAGqAXIC8QDtAMQA1QAHAnYBGgKmAvsC/wP+A24BfAGMAYcBXQE+AQ==",
            "dtype": "i2"
           }
          }
         ]
        },
        {
         "data": [
          {
           "type": "scatter",
           "x": {
            "bdata": "vAe9B74HvwfAB8EHwgfDB8QHxQfGB8cHyAfJB8oHywfMB80HzgfPB9AH",
            "dtype": "i2"
           },
           "y": {
            "bdata": "0wDcAMAAiwCRAIIAzQD0AIoBigKKAm0DKgRiAzYCPAJKAk8CEwJyAk0D",
            "dtype": "i2"
           }
          },
          {
           "type": "scatter",
           "x": {
            "bdata": "vAe9B74HvwfAB8EHwgfDB8QHxQfGB8cHyAfJB8oHywfMB80HzgfPB9AH",
            "dtype": "i2"
           },
           "y": {
            "bdata": "cAGqAXIC8QDtAMQA1QAHAnYBGgKmAvsC/wP+A24BfAGMAYcBXQE+AasB",
            "dtype": "i2"
           }
          }
         ]
        },
        {
         "data": [
          {
           "type": "scatter",
           "x": {
            "bdata": "vAe9B74HvwfAB8EHwgfDB8QHxQfGB8cHyAfJB8oHywfMB80HzgfPB9AH0Qc=",
            "dtype": "i2"
           },
           "y": {
            "bdata": "0wDcAMAAiwCRAIIAzQD0AIoBigKKAm0DKgRiAzYCPAJKAk8CEwJyAk0DTwM=",
            "dtype": "i2"
           }
          },
          {
           "type": "scatter",
           "x": {
            "bdata": "vAe9B74HvwfAB8EHwgfDB8QHxQfGB8cHyAfJB8oHywfMB80HzgfPB9AH0Qc=",
            "dtype": "i2"
           },
           "y": {
            "bdata": "cAGqAXIC8QDtAMQA1QAHAnYBGgKmAvsC/wP+A24BfAGMAYcBXQE+AasBewI=",
            "dtype": "i2"
           }
          }
         ]
        },
        {
         "data": [
          {
           "type": "scatter",
           "x": {
            "bdata": "vAe9B74HvwfAB8EHwgfDB8QHxQfGB8cHyAfJB8oHywfMB80HzgfPB9AH0QfSBw==",
            "dtype": "i2"
           },
           "y": {
            "bdata": "0wDcAMAAiwCRAIIAzQD0AIoBigKKAm0DKgRiAzYCPAJKAk8CEwJyAk0DTwPpAg==",
            "dtype": "i2"
           }
          },
          {
           "type": "scatter",
           "x": {
            "bdata": "vAe9B74HvwfAB8EHwgfDB8QHxQfGB8cHyAfJB8oHywfMB80HzgfPB9AH0QfSBw==",
            "dtype": "i2"
           },
           "y": {
            "bdata": "cAGqAXIC8QDtAMQA1QAHAnYBGgKmAvsC/wP+A24BfAGMAYcBXQE+AasBewJhAw==",
            "dtype": "i2"
           }
          }
         ]
        },
        {
         "data": [
          {
           "type": "scatter",
           "x": {
            "bdata": "vAe9B74HvwfAB8EHwgfDB8QHxQfGB8cHyAfJB8oHywfMB80HzgfPB9AH0QfSB9MH",
            "dtype": "i2"
           },
           "y": {
            "bdata": "0wDcAMAAiwCRAIIAzQD0AIoBigKKAm0DKgRiAzYCPAJKAk8CEwJyAk0DTwPpAkcD",
            "dtype": "i2"
           }
          },
          {
           "type": "scatter",
           "x": {
            "bdata": "vAe9B74HvwfAB8EHwgfDB8QHxQfGB8cHyAfJB8oHywfMB80HzgfPB9AH0QfSB9MH",
            "dtype": "i2"
           },
           "y": {
            "bdata": "cAGqAXIC8QDtAMQA1QAHAnYBGgKmAvsC/wP+A24BfAGMAYcBXQE+AasBewJhA9EG",
            "dtype": "i2"
           }
          }
         ]
        },
        {
         "data": [
          {
           "type": "scatter",
           "x": {
            "bdata": "vAe9B74HvwfAB8EHwgfDB8QHxQfGB8cHyAfJB8oHywfMB80HzgfPB9AH0QfSB9MH1Ac=",
            "dtype": "i2"
           },
           "y": {
            "bdata": "0wDcAMAAiwCRAIIAzQD0AIoBigKKAm0DKgRiAzYCPAJKAk8CEwJyAk0DTwPpAkcDlQM=",
            "dtype": "i2"
           }
          },
          {
           "type": "scatter",
           "x": {
            "bdata": "vAe9B74HvwfAB8EHwgfDB8QHxQfGB8cHyAfJB8oHywfMB80HzgfPB9AH0QfSB9MH1Ac=",
            "dtype": "i2"
           },
           "y": {
            "bdata": "cAGqAXIC8QDtAMQA1QAHAnYBGgKmAvsC/wP+A24BfAGMAYcBXQE+AasBewJhA9EGNwY=",
            "dtype": "i2"
           }
          }
         ]
        },
        {
         "data": [
          {
           "type": "scatter",
           "x": {
            "bdata": "vAe9B74HvwfAB8EHwgfDB8QHxQfGB8cHyAfJB8oHywfMB80HzgfPB9AH0QfSB9MH1AfVBw==",
            "dtype": "i2"
           },
           "y": {
            "bdata": "0wDcAMAAiwCRAIIAzQD0AIoBigKKAm0DKgRiAzYCPAJKAk8CEwJyAk0DTwPpAkcDlQPJAw==",
            "dtype": "i2"
           }
          },
          {
           "type": "scatter",
           "x": {
            "bdata": "vAe9B74HvwfAB8EHwgfDB8QHxQfGB8cHyAfJB8oHywfMB80HzgfPB9AH0QfSB9MH1AfVBw==",
            "dtype": "i2"
           },
           "y": {
            "bdata": "cAGqAXIC8QDtAMQA1QAHAnYBGgKmAvsC/wP+A24BfAGMAYcBXQE+AasBewJhA9EGNwaBBA==",
            "dtype": "i2"
           }
          }
         ]
        },
        {
         "data": [
          {
           "type": "scatter",
           "x": {
            "bdata": "vAe9B74HvwfAB8EHwgfDB8QHxQfGB8cHyAfJB8oHywfMB80HzgfPB9AH0QfSB9MH1AfVB9YH",
            "dtype": "i2"
           },
           "y": {
            "bdata": "0wDcAMAAiwCRAIIAzQD0AIoBigKKAm0DKgRiAzYCPAJKAk8CEwJyAk0DTwPpAkcDlQPJA50E",
            "dtype": "i2"
           }
          },
          {
           "type": "scatter",
           "x": {
            "bdata": "vAe9B74HvwfAB8EHwgfDB8QHxQfGB8cHyAfJB8oHywfMB80HzgfPB9AH0QfSB9MH1AfVB9YH",
            "dtype": "i2"
           },
           "y": {
            "bdata": "cAGqAXIC8QDtAMQA1QAHAnYBGgKmAvsC/wP+A24BfAGMAYcBXQE+AasBewJhA9EGNwaBBE8D",
            "dtype": "i2"
           }
          }
         ]
        },
        {
         "data": [
          {
           "type": "scatter",
           "x": {
            "bdata": "vAe9B74HvwfAB8EHwgfDB8QHxQfGB8cHyAfJB8oHywfMB80HzgfPB9AH0QfSB9MH1AfVB9YH1wc=",
            "dtype": "i2"
           },
           "y": {
            "bdata": "0wDcAMAAiwCRAIIAzQD0AIoBigKKAm0DKgRiAzYCPAJKAk8CEwJyAk0DTwPpAkcDlQPJA50E0gY=",
            "dtype": "i2"
           }
          },
          {
           "type": "scatter",
           "x": {
            "bdata": "vAe9B74HvwfAB8EHwgfDB8QHxQfGB8cHyAfJB8oHywfMB80HzgfPB9AH0QfSB9MH1AfVB9YH1wc=",
            "dtype": "i2"
           },
           "y": {
            "bdata": "cAGqAXIC8QDtAMQA1QAHAnYBGgKmAvsC/wP+A24BfAGMAYcBXQE+AasBewJhA9EGNwaBBE8DbAI=",
            "dtype": "i2"
           }
          }
         ]
        },
        {
         "data": [
          {
           "type": "scatter",
           "x": {
            "bdata": "vAe9B74HvwfAB8EHwgfDB8QHxQfGB8cHyAfJB8oHywfMB80HzgfPB9AH0QfSB9MH1AfVB9YH1wfYBw==",
            "dtype": "i2"
           },
           "y": {
            "bdata": "0wDcAMAAiwCRAIIAzQD0AIoBigKKAm0DKgRiAzYCPAJKAk8CEwJyAk0DTwPpAkcDlQPJA50E0gZaCA==",
            "dtype": "i2"
           }
          },
          {
           "type": "scatter",
           "x": {
            "bdata": "vAe9B74HvwfAB8EHwgfDB8QHxQfGB8cHyAfJB8oHywfMB80HzgfPB9AH0QfSB9MH1AfVB9YH1wfYBw==",
            "dtype": "i2"
           },
           "y": {
            "bdata": "cAGqAXIC8QDtAMQA1QAHAnYBGgKmAvsC/wP+A24BfAGMAYcBXQE+AasBewJhA9EGNwaBBE8DbAIcAg==",
            "dtype": "i2"
           }
          }
         ]
        },
        {
         "data": [
          {
           "type": "scatter",
           "x": {
            "bdata": "vAe9B74HvwfAB8EHwgfDB8QHxQfGB8cHyAfJB8oHywfMB80HzgfPB9AH0QfSB9MH1AfVB9YH1wfYB9kH",
            "dtype": "i2"
           },
           "y": {
            "bdata": "0wDcAMAAiwCRAIIAzQD0AIoBigKKAm0DKgRiAzYCPAJKAk8CEwJyAk0DTwPpAkcDlQPJA50E0gZaCM0J",
            "dtype": "i2"
           }
          },
          {
           "type": "scatter",
           "x": {
            "bdata": "vAe9B74HvwfAB8EHwgfDB8QHxQfGB8cHyAfJB8oHywfMB80HzgfPB9AH0QfSB9MH1AfVB9YH1wfYB9kH",
            "dtype": "i2"
           },
           "y": {
            "bdata": "cAGqAXIC8QDtAMQA1QAHAnYBGgKmAvsC/wP+A24BfAGMAYcBXQE+AasBewJhA9EGNwaBBE8DbAIcAtMB",
            "dtype": "i2"
           }
          }
         ]
        },
        {
         "data": [
          {
           "type": "scatter",
           "x": {
            "bdata": "vAe9B74HvwfAB8EHwgfDB8QHxQfGB8cHyAfJB8oHywfMB80HzgfPB9AH0QfSB9MH1AfVB9YH1wfYB9kH2gc=",
            "dtype": "i2"
           },
           "y": {
            "bdata": "0wDcAMAAiwCRAIIAzQD0AIoBigKKAm0DKgRiAzYCPAJKAk8CEwJyAk0DTwPpAkcDlQPJA50E0gZaCM0JJgo=",
            "dtype": "i2"
           }
          },
          {
           "type": "scatter",
           "x": {
            "bdata": "vAe9B74HvwfAB8EHwgfDB8QHxQfGB8cHyAfJB8oHywfMB80HzgfPB9AH0QfSB9MH1AfVB9YH1wfYB9kH2gc=",
            "dtype": "i2"
           },
           "y": {
            "bdata": "cAGqAXIC8QDtAMQA1QAHAnYBGgKmAvsC/wP+A24BfAGMAYcBXQE+AasBewJhA9EGNwaBBE8DbAIcAtMBywE=",
            "dtype": "i2"
           }
          }
         ]
        },
        {
         "data": [
          {
           "type": "scatter",
           "x": {
            "bdata": "vAe9B74HvwfAB8EHwgfDB8QHxQfGB8cHyAfJB8oHywfMB80HzgfPB9AH0QfSB9MH1AfVB9YH1wfYB9kH2gfbBw==",
            "dtype": "i2"
           },
           "y": {
            "bdata": "0wDcAMAAiwCRAIIAzQD0AIoBigKKAm0DKgRiAzYCPAJKAk8CEwJyAk0DTwPpAkcDlQPJA50E0gZaCM0JJgrkBQ==",
            "dtype": "i2"
           }
          },
          {
           "type": "scatter",
           "x": {
            "bdata": "vAe9B74HvwfAB8EHwgfDB8QHxQfGB8cHyAfJB8oHywfMB80HzgfPB9AH0QfSB9MH1AfVB9YH1wfYB9kH2gfbBw==",
            "dtype": "i2"
           },
           "y": {
            "bdata": "cAGqAXIC8QDtAMQA1QAHAnYBGgKmAvsC/wP+A24BfAGMAYcBXQE+AasBewJhA9EGNwaBBE8DbAIcAtMBywEWAQ==",
            "dtype": "i2"
           }
          }
         ]
        },
        {
         "data": [
          {
           "type": "scatter",
           "x": {
            "bdata": "vAe9B74HvwfAB8EHwgfDB8QHxQfGB8cHyAfJB8oHywfMB80HzgfPB9AH0QfSB9MH1AfVB9YH1wfYB9kH2gfbB9wH",
            "dtype": "i2"
           },
           "y": {
            "bdata": "0wDcAMAAiwCRAIIAzQD0AIoBigKKAm0DKgRiAzYCPAJKAk8CEwJyAk0DTwPpAkcDlQPJA50E0gZaCM0JJgrkBWoG",
            "dtype": "i2"
           }
          },
          {
           "type": "scatter",
           "x": {
            "bdata": "vAe9B74HvwfAB8EHwgfDB8QHxQfGB8cHyAfJB8oHywfMB80HzgfPB9AH0QfSB9MH1AfVB9YH1wfYB9kH2gfbB9wH",
            "dtype": "i2"
           },
           "y": {
            "bdata": "cAGqAXIC8QDtAMQA1QAHAnYBGgKmAvsC/wP+A24BfAGMAYcBXQE+AasBewJhA9EGNwaBBE8DbAIcAtMBywEWAQcB",
            "dtype": "i2"
           }
          }
         ]
        },
        {
         "data": [
          {
           "type": "scatter",
           "x": {
            "bdata": "vAe9B74HvwfAB8EHwgfDB8QHxQfGB8cHyAfJB8oHywfMB80HzgfPB9AH0QfSB9MH1AfVB9YH1wfYB9kH2gfbB9wH3Qc=",
            "dtype": "i2"
           },
           "y": {
            "bdata": "0wDcAMAAiwCRAIIAzQD0AIoBigKKAm0DKgRiAzYCPAJKAk8CEwJyAk0DTwPpAkcDlQPJA50E0gZaCM0JJgrkBWoGsgY=",
            "dtype": "i2"
           }
          },
          {
           "type": "scatter",
           "x": {
            "bdata": "vAe9B74HvwfAB8EHwgfDB8QHxQfGB8cHyAfJB8oHywfMB80HzgfPB9AH0QfSB9MH1AfVB9YH1wfYB9kH2gfbB9wH3Qc=",
            "dtype": "i2"
           },
           "y": {
            "bdata": "cAGqAXIC8QDtAMQA1QAHAnYBGgKmAvsC/wP+A24BfAGMAYcBXQE+AasBewJhA9EGNwaBBE8DbAIcAtMBywEWAQcBGgE=",
            "dtype": "i2"
           }
          }
         ]
        }
       ],
       "layout": {
        "height": 500,
        "template": {
         "data": {
          "bar": [
           {
            "error_x": {
             "color": "#2a3f5f"
            },
            "error_y": {
             "color": "#2a3f5f"
            },
            "marker": {
             "line": {
              "color": "#E5ECF6",
              "width": 0.5
             },
             "pattern": {
              "fillmode": "overlay",
              "size": 10,
              "solidity": 0.2
             }
            },
            "type": "bar"
           }
          ],
          "barpolar": [
           {
            "marker": {
             "line": {
              "color": "#E5ECF6",
              "width": 0.5
             },
             "pattern": {
              "fillmode": "overlay",
              "size": 10,
              "solidity": 0.2
             }
            },
            "type": "barpolar"
           }
          ],
          "carpet": [
           {
            "aaxis": {
             "endlinecolor": "#2a3f5f",
             "gridcolor": "white",
             "linecolor": "white",
             "minorgridcolor": "white",
             "startlinecolor": "#2a3f5f"
            },
            "baxis": {
             "endlinecolor": "#2a3f5f",
             "gridcolor": "white",
             "linecolor": "white",
             "minorgridcolor": "white",
             "startlinecolor": "#2a3f5f"
            },
            "type": "carpet"
           }
          ],
          "choropleth": [
           {
            "colorbar": {
             "outlinewidth": 0,
             "ticks": ""
            },
            "type": "choropleth"
           }
          ],
          "contour": [
           {
            "colorbar": {
             "outlinewidth": 0,
             "ticks": ""
            },
            "colorscale": [
             [
              0,
              "#0d0887"
             ],
             [
              0.1111111111111111,
              "#46039f"
             ],
             [
              0.2222222222222222,
              "#7201a8"
             ],
             [
              0.3333333333333333,
              "#9c179e"
             ],
             [
              0.4444444444444444,
              "#bd3786"
             ],
             [
              0.5555555555555556,
              "#d8576b"
             ],
             [
              0.6666666666666666,
              "#ed7953"
             ],
             [
              0.7777777777777778,
              "#fb9f3a"
             ],
             [
              0.8888888888888888,
              "#fdca26"
             ],
             [
              1,
              "#f0f921"
             ]
            ],
            "type": "contour"
           }
          ],
          "contourcarpet": [
           {
            "colorbar": {
             "outlinewidth": 0,
             "ticks": ""
            },
            "type": "contourcarpet"
           }
          ],
          "heatmap": [
           {
            "colorbar": {
             "outlinewidth": 0,
             "ticks": ""
            },
            "colorscale": [
             [
              0,
              "#0d0887"
             ],
             [
              0.1111111111111111,
              "#46039f"
             ],
             [
              0.2222222222222222,
              "#7201a8"
             ],
             [
              0.3333333333333333,
              "#9c179e"
             ],
             [
              0.4444444444444444,
              "#bd3786"
             ],
             [
              0.5555555555555556,
              "#d8576b"
             ],
             [
              0.6666666666666666,
              "#ed7953"
             ],
             [
              0.7777777777777778,
              "#fb9f3a"
             ],
             [
              0.8888888888888888,
              "#fdca26"
             ],
             [
              1,
              "#f0f921"
             ]
            ],
            "type": "heatmap"
           }
          ],
          "histogram": [
           {
            "marker": {
             "pattern": {
              "fillmode": "overlay",
              "size": 10,
              "solidity": 0.2
             }
            },
            "type": "histogram"
           }
          ],
          "histogram2d": [
           {
            "colorbar": {
             "outlinewidth": 0,
             "ticks": ""
            },
            "colorscale": [
             [
              0,
              "#0d0887"
             ],
             [
              0.1111111111111111,
              "#46039f"
             ],
             [
              0.2222222222222222,
              "#7201a8"
             ],
             [
              0.3333333333333333,
              "#9c179e"
             ],
             [
              0.4444444444444444,
              "#bd3786"
             ],
             [
              0.5555555555555556,
              "#d8576b"
             ],
             [
              0.6666666666666666,
              "#ed7953"
             ],
             [
              0.7777777777777778,
              "#fb9f3a"
             ],
             [
              0.8888888888888888,
              "#fdca26"
             ],
             [
              1,
              "#f0f921"
             ]
            ],
            "type": "histogram2d"
           }
          ],
          "histogram2dcontour": [
           {
            "colorbar": {
             "outlinewidth": 0,
             "ticks": ""
            },
            "colorscale": [
             [
              0,
              "#0d0887"
             ],
             [
              0.1111111111111111,
              "#46039f"
             ],
             [
              0.2222222222222222,
              "#7201a8"
             ],
             [
              0.3333333333333333,
              "#9c179e"
             ],
             [
              0.4444444444444444,
              "#bd3786"
             ],
             [
              0.5555555555555556,
              "#d8576b"
             ],
             [
              0.6666666666666666,
              "#ed7953"
             ],
             [
              0.7777777777777778,
              "#fb9f3a"
             ],
             [
              0.8888888888888888,
              "#fdca26"
             ],
             [
              1,
              "#f0f921"
             ]
            ],
            "type": "histogram2dcontour"
           }
          ],
          "mesh3d": [
           {
            "colorbar": {
             "outlinewidth": 0,
             "ticks": ""
            },
            "type": "mesh3d"
           }
          ],
          "parcoords": [
           {
            "line": {
             "colorbar": {
              "outlinewidth": 0,
              "ticks": ""
             }
            },
            "type": "parcoords"
           }
          ],
          "pie": [
           {
            "automargin": true,
            "type": "pie"
           }
          ],
          "scatter": [
           {
            "fillpattern": {
             "fillmode": "overlay",
             "size": 10,
             "solidity": 0.2
            },
            "type": "scatter"
           }
          ],
          "scatter3d": [
           {
            "line": {
             "colorbar": {
              "outlinewidth": 0,
              "ticks": ""
             }
            },
            "marker": {
             "colorbar": {
              "outlinewidth": 0,
              "ticks": ""
             }
            },
            "type": "scatter3d"
           }
          ],
          "scattercarpet": [
           {
            "marker": {
             "colorbar": {
              "outlinewidth": 0,
              "ticks": ""
             }
            },
            "type": "scattercarpet"
           }
          ],
          "scattergeo": [
           {
            "marker": {
             "colorbar": {
              "outlinewidth": 0,
              "ticks": ""
             }
            },
            "type": "scattergeo"
           }
          ],
          "scattergl": [
           {
            "marker": {
             "colorbar": {
              "outlinewidth": 0,
              "ticks": ""
             }
            },
            "type": "scattergl"
           }
          ],
          "scattermap": [
           {
            "marker": {
             "colorbar": {
              "outlinewidth": 0,
              "ticks": ""
             }
            },
            "type": "scattermap"
           }
          ],
          "scattermapbox": [
           {
            "marker": {
             "colorbar": {
              "outlinewidth": 0,
              "ticks": ""
             }
            },
            "type": "scattermapbox"
           }
          ],
          "scatterpolar": [
           {
            "marker": {
             "colorbar": {
              "outlinewidth": 0,
              "ticks": ""
             }
            },
            "type": "scatterpolar"
           }
          ],
          "scatterpolargl": [
           {
            "marker": {
             "colorbar": {
              "outlinewidth": 0,
              "ticks": ""
             }
            },
            "type": "scatterpolargl"
           }
          ],
          "scatterternary": [
           {
            "marker": {
             "colorbar": {
              "outlinewidth": 0,
              "ticks": ""
             }
            },
            "type": "scatterternary"
           }
          ],
          "surface": [
           {
            "colorbar": {
             "outlinewidth": 0,
             "ticks": ""
            },
            "colorscale": [
             [
              0,
              "#0d0887"
             ],
             [
              0.1111111111111111,
              "#46039f"
             ],
             [
              0.2222222222222222,
              "#7201a8"
             ],
             [
              0.3333333333333333,
              "#9c179e"
             ],
             [
              0.4444444444444444,
              "#bd3786"
             ],
             [
              0.5555555555555556,
              "#d8576b"
             ],
             [
              0.6666666666666666,
              "#ed7953"
             ],
             [
              0.7777777777777778,
              "#fb9f3a"
             ],
             [
              0.8888888888888888,
              "#fdca26"
             ],
             [
              1,
              "#f0f921"
             ]
            ],
            "type": "surface"
           }
          ],
          "table": [
           {
            "cells": {
             "fill": {
              "color": "#EBF0F8"
             },
             "line": {
              "color": "white"
             }
            },
            "header": {
             "fill": {
              "color": "#C8D4E3"
             },
             "line": {
              "color": "white"
             }
            },
            "type": "table"
           }
          ]
         },
         "layout": {
          "annotationdefaults": {
           "arrowcolor": "#2a3f5f",
           "arrowhead": 0,
           "arrowwidth": 1
          },
          "autotypenumbers": "strict",
          "coloraxis": {
           "colorbar": {
            "outlinewidth": 0,
            "ticks": ""
           }
          },
          "colorscale": {
           "diverging": [
            [
             0,
             "#8e0152"
            ],
            [
             0.1,
             "#c51b7d"
            ],
            [
             0.2,
             "#de77ae"
            ],
            [
             0.3,
             "#f1b6da"
            ],
            [
             0.4,
             "#fde0ef"
            ],
            [
             0.5,
             "#f7f7f7"
            ],
            [
             0.6,
             "#e6f5d0"
            ],
            [
             0.7,
             "#b8e186"
            ],
            [
             0.8,
             "#7fbc41"
            ],
            [
             0.9,
             "#4d9221"
            ],
            [
             1,
             "#276419"
            ]
           ],
           "sequential": [
            [
             0,
             "#0d0887"
            ],
            [
             0.1111111111111111,
             "#46039f"
            ],
            [
             0.2222222222222222,
             "#7201a8"
            ],
            [
             0.3333333333333333,
             "#9c179e"
            ],
            [
             0.4444444444444444,
             "#bd3786"
            ],
            [
             0.5555555555555556,
             "#d8576b"
            ],
            [
             0.6666666666666666,
             "#ed7953"
            ],
            [
             0.7777777777777778,
             "#fb9f3a"
            ],
            [
             0.8888888888888888,
             "#fdca26"
            ],
            [
             1,
             "#f0f921"
            ]
           ],
           "sequentialminus": [
            [
             0,
             "#0d0887"
            ],
            [
             0.1111111111111111,
             "#46039f"
            ],
            [
             0.2222222222222222,
             "#7201a8"
            ],
            [
             0.3333333333333333,
             "#9c179e"
            ],
            [
             0.4444444444444444,
             "#bd3786"
            ],
            [
             0.5555555555555556,
             "#d8576b"
            ],
            [
             0.6666666666666666,
             "#ed7953"
            ],
            [
             0.7777777777777778,
             "#fb9f3a"
            ],
            [
             0.8888888888888888,
             "#fdca26"
            ],
            [
             1,
             "#f0f921"
            ]
           ]
          },
          "colorway": [
           "#636efa",
           "#EF553B",
           "#00cc96",
           "#ab63fa",
           "#FFA15A",
           "#19d3f3",
           "#FF6692",
           "#B6E880",
           "#FF97FF",
           "#FECB52"
          ],
          "font": {
           "color": "#2a3f5f"
          },
          "geo": {
           "bgcolor": "white",
           "lakecolor": "white",
           "landcolor": "#E5ECF6",
           "showlakes": true,
           "showland": true,
           "subunitcolor": "white"
          },
          "hoverlabel": {
           "align": "left"
          },
          "hovermode": "closest",
          "mapbox": {
           "style": "light"
          },
          "paper_bgcolor": "white",
          "plot_bgcolor": "#E5ECF6",
          "polar": {
           "angularaxis": {
            "gridcolor": "white",
            "linecolor": "white",
            "ticks": ""
           },
           "bgcolor": "#E5ECF6",
           "radialaxis": {
            "gridcolor": "white",
            "linecolor": "white",
            "ticks": ""
           }
          },
          "scene": {
           "xaxis": {
            "backgroundcolor": "#E5ECF6",
            "gridcolor": "white",
            "gridwidth": 2,
            "linecolor": "white",
            "showbackground": true,
            "ticks": "",
            "zerolinecolor": "white"
           },
           "yaxis": {
            "backgroundcolor": "#E5ECF6",
            "gridcolor": "white",
            "gridwidth": 2,
            "linecolor": "white",
            "showbackground": true,
            "ticks": "",
            "zerolinecolor": "white"
           },
           "zaxis": {
            "backgroundcolor": "#E5ECF6",
            "gridcolor": "white",
            "gridwidth": 2,
            "linecolor": "white",
            "showbackground": true,
            "ticks": "",
            "zerolinecolor": "white"
           }
          },
          "shapedefaults": {
           "line": {
            "color": "#2a3f5f"
           }
          },
          "ternary": {
           "aaxis": {
            "gridcolor": "white",
            "linecolor": "white",
            "ticks": ""
           },
           "baxis": {
            "gridcolor": "white",
            "linecolor": "white",
            "ticks": ""
           },
           "bgcolor": "#E5ECF6",
           "caxis": {
            "gridcolor": "white",
            "linecolor": "white",
            "ticks": ""
           }
          },
          "title": {
           "x": 0.05
          },
          "xaxis": {
           "automargin": true,
           "gridcolor": "white",
           "linecolor": "white",
           "ticks": "",
           "title": {
            "standoff": 15
           },
           "zerolinecolor": "white",
           "zerolinewidth": 2
          },
          "yaxis": {
           "automargin": true,
           "gridcolor": "white",
           "linecolor": "white",
           "ticks": "",
           "title": {
            "standoff": 15
           },
           "zerolinecolor": "white",
           "zerolinewidth": 2
          }
         }
        },
        "title": {
         "font": {
          "size": 20
         },
         "text": "<b>Inmigración brasileña y argentina hacia Canadá entre 1980 - 2013</b>",
         "x": 0.1,
         "xanchor": "left"
        },
        "updatemenus": [
         {
          "buttons": [
           {
            "args": [
             null,
             {
              "frame": {
               "duration": 400,
               "redraw": true
              },
              "fromcurrent": true
             }
            ],
            "label": "Iniciar",
            "method": "animate"
           }
          ],
          "showactive": false,
          "type": "buttons"
         }
        ],
        "width": 1000,
        "xaxis": {
         "autorange": false,
         "range": [
          1980,
          2013
         ],
         "title": {
          "text": "<b>Año</b>"
         }
        },
        "yaxis": {
         "autorange": false,
         "range": [
          0,
          3000
         ],
         "title": {
          "text": "<b>Número de inmigrantes</b>"
         }
        }
       }
      }
     },
     "metadata": {},
     "output_type": "display_data"
    }
   ],
   "source": [
    "import plotly.graph_objs as go\n",
    "\n",
    "# lineas br y ar\n",
    "br = df.loc['Brasil', anos]\n",
    "ar = df.loc['Argentina', anos]\n",
    "\n",
    "br_dict = dict({'Año': br.index.tolist(), 'Inmigrantes': br.values.tolist()})\n",
    "ar_dict = dict({'Año': ar.index.tolist(), 'Inmigrantes': ar.values.tolist()})\n",
    "\n",
    "datos_br = pd.DataFrame(br_dict)\n",
    "datos_br['Año'] = datos_br['Año'].astype(int)\n",
    "\n",
    "datos_arg = pd.DataFrame(ar_dict)\n",
    "datos_arg[\"Año\"] = datos_arg[\"Año\"].astype(int)\n",
    "\n",
    "# init figura\n",
    "fig = go.Figure()\n",
    "\n",
    "fig.add_trace(\n",
    "    go.Scatter(\n",
    "        x=[datos_br[\"Año\"].iloc[0]],\n",
    "        y=[datos_br[\"Inmigrantes\"].iloc[0]],\n",
    "        mode=\"lines\",\n",
    "        name=\"Inmigrantes Brasil\",\n",
    "        line=dict(width=4),\n",
    "    )\n",
    ")\n",
    "\n",
    "fig.add_trace(\n",
    "    go.Scatter(\n",
    "        x=[datos_arg[\"Año\"].iloc[0]],\n",
    "        y=[datos_arg[\"Inmigrantes\"].iloc[0]],\n",
    "        mode=\"lines\",\n",
    "        name=\"Inmigrantes Argentina\",\n",
    "        line=dict(width=4),\n",
    "    )\n",
    ")\n",
    "\n",
    "fig.update_layout(\n",
    "  title=dict(\n",
    "    text='<b>Inmigración brasileña y argentina hacia Canadá entre 1980 - 2013</b>',\n",
    "    x=0.10,\n",
    "    xanchor='left',\n",
    "    font=dict(size=20)\n",
    "  ),\n",
    "  xaxis=dict(range=[1980,2013], autorange=False, title='<b>Año</b>'),\n",
    "  yaxis=dict(range=[0,3000],autorange=False, title='<b>Número de inmigrantes</b>'),\n",
    "  updatemenus=[dict(\n",
    "    type='buttons',\n",
    "    showactive=False,\n",
    "    buttons=[dict(\n",
    "      label='Iniciar',\n",
    "      method='animate',\n",
    "      args=[None, {'frame': {'duration': 400, 'redraw': True}, 'fromcurrent': True}]\n",
    "    )]\n",
    "  )],\n",
    "  height=500,\n",
    "  width=1000\n",
    ")\n",
    "\n",
    "# config animaciones\n",
    "frames = []\n",
    "for i in range(len(datos_br)):\n",
    "  frame_info = [\n",
    "    go.Scatter(x=datos_br['Año'].iloc[:i+1], y=datos_br['Inmigrantes'].iloc[:i+1]),\n",
    "    go.Scatter(x=datos_arg['Año'].iloc[:i+1], y=datos_arg['Inmigrantes'].iloc[:i+1])\n",
    "  ]\n",
    "  frame = go.Frame(data=frame_info)\n",
    "  frames.append(frame)\n",
    "fig.frames = frames\n",
    "\n",
    "fig.show()"
   ]
  }
 ],
 "metadata": {
  "kernelspec": {
   "display_name": ".venv",
   "language": "python",
   "name": "python3"
  },
  "language_info": {
   "codemirror_mode": {
    "name": "ipython",
    "version": 3
   },
   "file_extension": ".py",
   "mimetype": "text/x-python",
   "name": "python",
   "nbconvert_exporter": "python",
   "pygments_lexer": "ipython3",
   "version": "3.13.2"
  }
 },
 "nbformat": 4,
 "nbformat_minor": 5
}
